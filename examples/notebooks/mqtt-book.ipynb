{
 "cells": [
  {
   "cell_type": "markdown",
   "id": "cd6b95b0",
   "metadata": {},
   "source": [
    "# read light names from MQTT/zigbee2mqtt"
   ]
  },
  {
   "cell_type": "code",
   "execution_count": 1,
   "id": "3894e5ec-f26d-4f1e-ba44-3a17f2d0037d",
   "metadata": {},
   "outputs": [],
   "source": [
    "import os\n",
    "import sys\n",
    "import json\n",
    "import argparse\n",
    "from urllib.parse import urlparse\n",
    "\n",
    "import paho.mqtt.publish as publish\n",
    "import paho.mqtt.subscribe as subscribe\n"
   ]
  },
  {
   "cell_type": "code",
   "execution_count": 2,
   "id": "1165ff75",
   "metadata": {},
   "outputs": [],
   "source": [
    "def get_url_from_configfile(config_path):\n",
    "    parser = argparse.ArgumentParser()\n",
    "    for n in [\"--host\", \"--username\", \"--pw\"]:\n",
    "        parser.add_argument(n, type=str)\n",
    "    parser.add_argument(\"--port\", type=int)\n",
    "    parser.add_argument(\"--custom\", nargs=argparse.REMAINDER)\n",
    "\n",
    "    if not os.path.exists(config_path):\n",
    "        print(\"Error: missing config ({})\".format(config_path))\n",
    "        sys.exit(1)\n",
    "\n",
    "    args = parser.parse_args(\n",
    "        open(config_path, \"r\").read().strip().split(), namespace=argparse.Namespace()\n",
    "    )\n",
    "    url = urlparse(\n",
    "        \"mqtts://{username}:{pw}@{host}:{port}\".format(\n",
    "            username=args.username, pw=args.pw, host=args.host, port=str(args.port)\n",
    "        )\n",
    "    )\n",
    "    return url\n"
   ]
  },
  {
   "cell_type": "code",
   "execution_count": 3,
   "id": "7bd479f6",
   "metadata": {},
   "outputs": [],
   "source": [
    "def get_lights(lights_group_name, url):\n",
    "    topics = [\n",
    "        \"zigbee2mqtt/bridge/devices\",\n",
    "        \"zigbee2mqtt/bridge/groups\",\n",
    "    ]\n",
    "\n",
    "    results = subscribe.simple(\n",
    "        topics,\n",
    "        msg_count=len(topics),\n",
    "        qos=1,\n",
    "        retained=True,\n",
    "        hostname=url.hostname,\n",
    "        port=url.port,\n",
    "        auth={\"username\": url.username, \"password\": url.password},\n",
    "        tls={},\n",
    "    )\n",
    "\n",
    "    devices, groups = sorted(\n",
    "        {\n",
    "            msg.topic.removeprefix(\"zigbee2mqtt/bridge/\"): json.loads(msg.payload)\n",
    "            for msg in results\n",
    "        }.items()\n",
    "    )\n",
    "\n",
    "    target_groups = [d for d in groups[1] if d[\"friendly_name\"] == lights_group_name]\n",
    "    light_group = target_groups[0]\n",
    "    light_members = sorted([member[\"ieee_address\"] for member in light_group[\"members\"]])\n",
    "    light_names = sorted(\n",
    "        [d[\"friendly_name\"] for d in devices[1] if d[\"ieee_address\"] in light_members]\n",
    "    )\n",
    "    return light_names\n"
   ]
  },
  {
   "cell_type": "code",
   "execution_count": 4,
   "id": "ca7b817b",
   "metadata": {},
   "outputs": [],
   "source": [
    "url = get_url_from_configfile(os.path.expanduser(\"~/.config/mosquitto_pub\"))\n",
    "light_names = get_lights(\"lights_all\", url)\n"
   ]
  },
  {
   "cell_type": "code",
   "execution_count": 5,
   "id": "b2cfc084",
   "metadata": {},
   "outputs": [
    {
     "data": {
      "text/plain": [
       "['balcony_rgb',\n",
       " 'bathroom_rgb',\n",
       " 'bathroom_switch',\n",
       " 'bedroom_rgb',\n",
       " 'bedroom_tem',\n",
       " 'frontroom_switch',\n",
       " 'kitchen_dim',\n",
       " 'kitchen_rgb',\n",
       " 'livingroom_balloon_dim',\n",
       " 'livingroom_rgb',\n",
       " 'livingroom_switch',\n",
       " 'livingroom_tem',\n",
       " 'paper_lamp_tem_bottom',\n",
       " 'paper_lamp_tem_middle',\n",
       " 'paper_lamp_tem_top']"
      ]
     },
     "execution_count": 5,
     "metadata": {},
     "output_type": "execute_result"
    }
   ],
   "source": [
    "light_names\n"
   ]
  },
  {
   "cell_type": "code",
   "execution_count": null,
   "id": "131090a2",
   "metadata": {},
   "outputs": [],
   "source": []
  }
 ],
 "metadata": {
  "jupytext": {
   "formats": "ipynb,py:percent"
  },
  "kernelspec": {
   "display_name": "athome",
   "language": "python",
   "name": "athome"
  },
  "vscode": {
   "interpreter": {
    "hash": "9834890d721f783d26fada9232cdd24993b73feefd3f8e216f3adc51bb14932a"
   }
  },
  "widgets": {
   "application/vnd.jupyter.widget-state+json": {
    "state": {},
    "version_major": 2,
    "version_minor": 0
   }
  }
 },
 "nbformat": 4,
 "nbformat_minor": 5
}
