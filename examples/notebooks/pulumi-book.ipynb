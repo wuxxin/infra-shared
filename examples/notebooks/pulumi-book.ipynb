{
    "cells": [
        {
            "cell_type": "code",
            "execution_count": null,
            "id": "3894e5ec-f26d-4f1e-ba44-3a17f2d0037d",
            "metadata": {},
            "outputs": [],
            "source": [
                "import sys\n",
                "import os\n",
                "import json\n",
                "import pulumi\n",
                "from pulumi import automation as auto"
            ]
        },
        {
            "cell_type": "code",
            "execution_count": null,
            "id": "cf812879",
            "metadata": {},
            "outputs": [],
            "source": [
                "this_file = __file__ if \"__file__\" in globals() else __vsc_ipynb_file__\n",
                "project_dir = os.path.abspath(\n",
                "    os.path.join(os.path.dirname(os.path.abspath(this_file)), \"..\", \"..\")\n",
                ")\n",
                "src_dir = os.path.join(project_dir, \"infra\")\n",
                "if src_dir not in sys.path:\n",
                "    sys.path.insert(0, src_dir)\n",
                "\n",
                "stack_name = \"sim\"\n",
                "project_name = \"athome\"\n",
                "os.environ[\"PULUMI_CONFIG_PASSPHRASE\"] =  \"sim\"\n",
                "os.environ[\"PULUMI_SKIP_UPDATE_CHECK\"] = \"1\""
            ]
        },
        {
            "cell_type": "code",
            "execution_count": null,
            "id": "1229e042-5437-4143-9c28-aef9ffec89b5",
            "metadata": {},
            "outputs": [],
            "source": [
                "def devop_stack():\n",
                "    import authority\n",
                "    from target import gateway\n",
                "    from target import hub\n"
            ]
        },
        {
            "cell_type": "code",
            "execution_count": null,
            "id": "d7144fda-9ba9-4930-8f9b-5ea98b3e492e",
            "metadata": {},
            "outputs": [],
            "source": [
                "stack = auto.create_or_select_stack(\n",
                "    stack_name=stack_name,\n",
                "    project_name=project_name,\n",
                "    program=devop_stack,\n",
                "    work_dir=src_dir,\n",
                ")\n",
                "print(\"successfully initialized stack\")"
            ]
        },
        {
            "cell_type": "code",
            "execution_count": null,
            "id": "64b8e356-22f1-4407-b393-d93b1cda31ef",
            "metadata": {},
            "outputs": [],
            "source": [
                "# print(\"setting up config\")\n",
                "# stack.set_config( \"ca:ca_testing\", 'lan' )"
            ]
        },
        {
            "cell_type": "code",
            "execution_count": null,
            "id": "7da74347-0e8e-4530-a132-42aa5907581a",
            "metadata": {},
            "outputs": [],
            "source": [
                "# for inline programs, we must manage plugins ourselves\n",
                "# print(\"installing plugins...\")\n",
                "# for i in [\"random\", \"command\", \"libvirt\", \"docker\", \"keycloak\", \"postgresql\"]:\n",
                "#    stack.workspace.install_plugin(i)"
            ]
        },
        {
            "cell_type": "code",
            "execution_count": null,
            "id": "e6f69157-2d8e-45b7-8569-68d22bcc7cac",
            "metadata": {},
            "outputs": [],
            "source": [
                "print(\"refreshing stack...\")\n",
                "stack.refresh(on_output=print)\n",
                "print(\"refresh complete\")"
            ]
        },
        {
            "cell_type": "code",
            "execution_count": null,
            "id": "674e420e-947e-4897-9020-26b6e92cc0d6",
            "metadata": {},
            "outputs": [],
            "source": [
                "config=pulumi.Config(\"\")"
            ]
        },
        {
            "cell_type": "code",
            "execution_count": null,
            "id": "b26f25ef-a5e2-4c17-97a5-2a91aba2bf19",
            "metadata": {},
            "outputs": [],
            "source": [
                "config.get(\"ca_permitted_domains\")"
            ]
        },
        {
            "cell_type": "code",
            "execution_count": null,
            "id": "9abfab6e-9ec8-4c16-b6ba-5422f50f44bd",
            "metadata": {},
            "outputs": [],
            "source": [
                "print(\"updating stack...\")\n",
                "up_res = stack.up(on_output=print)\n",
                "\n",
                "print(f\"update summary: \\n{json.dumps(up_res.summary.resource_changes, indent=4)}\")\n",
                "stack.outputs()"
            ]
        },
        {
            "cell_type": "code",
            "execution_count": null,
            "id": "6d3af7fc-53e1-4b00-b8e6-1efb81164d50",
            "metadata": {},
            "outputs": [],
            "source": [
                "stack.destroy(on_output=print)\n",
                "stack.workspace.remove_stack(stack_name)\n",
                "print(\"stack successfully removed\")"
            ]
        },
        {
            "cell_type": "code",
            "execution_count": null,
            "id": "ee666b86-e384-4735-9a38-e14cddbafc65",
            "metadata": {},
            "outputs": [],
            "source": []
        }
    ],
    "metadata": {
        "jupytext": {
            "formats": "ipynb,py:percent"
        },
        "kernelspec": {
            "display_name": "athome",
            "language": "python",
            "name": "athome"
        },
        "vscode": {
            "interpreter": {
                "hash": "9834890d721f783d26fada9232cdd24993b73feefd3f8e216f3adc51bb14932a"
            }
        },
        "widgets": {
            "application/vnd.jupyter.widget-state+json": {
                "state": {},
                "version_major": 2,
                "version_minor": 0
            }
        }
    },
    "nbformat": 4,
    "nbformat_minor": 5
}
